{
  "cells": [
    {
      "cell_type": "markdown",
      "metadata": {
        "id": "view-in-github",
        "colab_type": "text"
      },
      "source": [
        "<a href=\"https://colab.research.google.com/github/vibhahugar/vlsi/blob/main/Face_Recognition_29_07.ipynb\" target=\"_parent\"><img src=\"https://colab.research.google.com/assets/colab-badge.svg\" alt=\"Open In Colab\"/></a>"
      ]
    },
    {
      "cell_type": "code",
      "execution_count": null,
      "id": "32e58e70",
      "metadata": {
        "id": "32e58e70"
      },
      "outputs": [],
      "source": [
        "import os\n",
        "import pandas as pd\n",
        "import numpy as np\n",
        "\n",
        "import tensorflow as keras\n",
        "import matplotlib.pyplot as plt\n",
        "from keras.layers import Dense, GlobalAveragePooling2D, Flatten\n",
        "#from keras.preprocessing import image\n",
        "from keras.applications.mobilenet import preprocess_input\n",
        "#from keras.preprocessing.image import ImageDataGenerator\n",
        "from keras.models import Model\n",
        "from keras.optimizers import Adam\n",
        "from keras.utils import image_dataset_from_directory\n",
        "\n",
        "import os\n",
        "import time\n",
        "import cv2\n",
        "import numpy as np\n",
        "import tensorflow as tf\n",
        "from tensorflow.keras.models import model_from_json\n",
        "from tensorflow.keras.applications import ResNet50\n",
        "from tensorflow.keras import layers, Model, Input\n",
        "import tensorflow as tf\n",
        "from keras_facenet import FaceNet"
      ]
    },
    {
      "cell_type": "code",
      "execution_count": null,
      "id": "507abe87",
      "metadata": {
        "id": "507abe87"
      },
      "outputs": [],
      "source": [
        "from keras_vggface.vggface import VGGFace\n",
        "# Based on VGG16 architecture\n",
        "model_vgg16 = VGGFace(model='vgg16') # or VGGFace() as default\n",
        "# Based on RESNET50 architecture\n",
        "model_resnet50 = VGGFace(model='resnet50')\n",
        "# Based on SENET50 architecture\n",
        "model_senet50 = VGGFace(model='senet50')"
      ]
    },
    {
      "cell_type": "code",
      "execution_count": null,
      "id": "2823f257",
      "metadata": {
        "id": "2823f257"
      },
      "outputs": [],
      "source": [
        "def load_saved_model():\n",
        "    '''Load the saved model from the disk'''\n",
        "    model = tf.keras.applications.ResNet50(weights='imagenet')\n",
        "    return model\n",
        "\n",
        "def img_to_encoding(image_path):\n",
        "    '''Converts an image to an embedding vector by using the model'''\n",
        "    img = tf.keras.preprocessing.image.load_img(image_path, target_size = (224,224))\n",
        "    img = np.around(np.array(img) / 255.0, decimals = 12)\n",
        "    x_train = np.expand_dims(img, axis=0)\n",
        "    embedding = model.predict_on_batch(x_train)\n",
        "    return embedding / np.linalg.norm(embedding, ord=2)\n",
        "\n",
        "def initialize_database():\n",
        "    '''Initialize the database of people names and their photos encodings'''\n",
        "    database = {}\n",
        "    for file in os.listdir('employees'):\n",
        "        if file.endswith('.jpg'):\n",
        "            image_path = os.path.join('employees', file)\n",
        "            embedding = img_to_encoding(image_path)\n",
        "            database[file[:-4]] = embedding\n",
        "    return database\n",
        "\n",
        "database = {}\n",
        "for file in os.listdir('employees'):\n",
        "    if file.endswith('.jpg'):\n",
        "        image_path = os.path.join('employees', file)\n",
        "        embedding = img_to_encoding(image_path)\n",
        "        database[file[:-4]] = embedding\n",
        "\n",
        "def get_image_from_camera(cam_port = 0):\n",
        "    '''This function captures an image from the camera and returns it as a numpy array.'''\n",
        "    cam = cv2.VideoCapture(cam_port)\n",
        "    time.sleep(1)\n",
        "    result, image = cam.read()\n",
        "    if result:\n",
        "        cv2.imshow('Captured image', image)\n",
        "        cv2.waitKey(2000)\n",
        "        cv2.destroyWindow('Captured image'); cv2.waitKey(1)\n",
        "        cam.release()\n",
        "        return image\n",
        "    else:\n",
        "        raise Exception('No image detected. Please try again')\n",
        "\n",
        "def identify_person(image_path):\n",
        "    '''Compare the picture from the camera to the pictures in the database'''\n",
        "    incoming_person_image_encoding = img_to_encoding(image_path)\n",
        "\n",
        "    distance_between_images = 100\n",
        "\n",
        "    for name, employee_encoding in database.items():\n",
        "        dist = np.linalg.norm(incoming_person_image_encoding - employee_encoding)\n",
        "        if dist < distance_between_images:\n",
        "            distance_between_images = dist\n",
        "            identified_as = name\n",
        "\n",
        "    if distance_between_images > 0.7:\n",
        "        print(f'Not sure, maybe it is {identified_as}')\n",
        "    else:\n",
        "        print(f'Employee identified\\nName: {identified_as}')\n",
        "        os.system(f\"say 'Hello {identified_as}'\")\n",
        "\n",
        "def recognize_face_from_camera():\n",
        "    '''Main function to execute face recognition'''\n",
        "    face_to_recognize = get_image_from_camera()\n",
        "    cv2.imwrite('face_to_recognize.jpg', face_to_recognize)\n",
        "    identify_person('face_to_recognize.jpg')\n",
        "    os.remove('face_to_recognize.jpg')\n",
        "\n",
        "def add_new_user_to_database():\n",
        "    '''Take picture of new employee, store in employees folder and in database as an embedding'''\n",
        "    name = input('Please enter your name: ')\n",
        "    image = get_image_from_camera()\n",
        "    image_path = 'employees/' + name + '.jpg'\n",
        "    cv2.imwrite(image_path, image)\n",
        "    database[name] = img_to_encoding(image_path)\n",
        "    print(f'New user \"{name}\" added to database')\n",
        "    return database\n",
        "\n",
        "database = initialize_database()"
      ]
    },
    {
      "cell_type": "code",
      "execution_count": null,
      "id": "d5ab2e30",
      "metadata": {
        "id": "d5ab2e30"
      },
      "outputs": [],
      "source": [
        "recognize_face_from_camera()"
      ]
    }
  ],
  "metadata": {
    "kernelspec": {
      "display_name": "Python 3 (ipykernel)",
      "language": "python",
      "name": "python3"
    },
    "language_info": {
      "codemirror_mode": {
        "name": "ipython",
        "version": 3
      },
      "file_extension": ".py",
      "mimetype": "text/x-python",
      "name": "python",
      "nbconvert_exporter": "python",
      "pygments_lexer": "ipython3",
      "version": "3.11.5"
    },
    "colab": {
      "provenance": [],
      "include_colab_link": true
    }
  },
  "nbformat": 4,
  "nbformat_minor": 5
}